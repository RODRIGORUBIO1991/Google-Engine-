{
 "cells": [
  {
   "cell_type": "markdown",
   "metadata": {},
   "source": [
    "**GOOGLE EARTH ENGINE**  🌍"
   ]
  },
  {
   "cell_type": "markdown",
   "metadata": {},
   "source": [
    "En mi repositorio de GitHub, estaré compartiendo diversos códigos de Google Earth Engine que se centran en el análisis y visualización de datos relacionados con la iluminación nocturna. \n",
    "\n",
    "Los scripts proporcionarán herramientas y técnicas para trabajar con colecciones de imágenes de satélite, como DMSP OLS y VIIRS Night Lights, con el objetivo de explorar patrones temporales y espaciales en la iluminación nocturna. \n",
    "\n",
    "Estos códigos abordarán temas como la comparación de años específicos, cálculos de cambios temporales y la visualización de datos en mapas interactivos. \n",
    "\n",
    "Cada script estará documentado y comentado para facilitar la comprensión y la adaptación a diferentes escenarios. \n",
    "\n",
    "Este conjunto inicial de códigos es parte de una serie más amplia de recursos que explorarán diversas aplicaciones y técnicas dentro del entorno de Google Earth Engine.\n",
    "\n",
    "\n",
    "-Cómo Utilizar:\n",
    "\n",
    "Clona el repositorio.\n",
    "\n",
    "Abre el Editor de Código de Google Earth Engine. https://code.earthengine.google.com/\n",
    "\n",
    "Copia y pega los scripts proporcionados.\n",
    "\n",
    "\n",
    "\n",
    "\n"
   ]
  },
  {
   "cell_type": "markdown",
   "metadata": {},
   "source": [
    "**🌃 Explorando la evolución de las luces nocturnas en el Área Metropolitana de Buenos Aires (AMBA)**\n",
    "\n",
    "Este código compara la iluminación estable en 1992 y 2013, visualizando cambios a lo largo del tiempo. 💡📊"
   ]
  },
  {
   "cell_type": "code",
   "execution_count": null,
   "metadata": {},
   "outputs": [],
   "source": [
    "// Importar la serie temporal de luces nocturnas DMSP OLS\n",
    "var dataset = ee.ImageCollection(\"NOAA/DMSP-OLS/NIGHTTIME_LIGHTS\")\n",
    "              .select('stable_lights')\n",
    "              .map(function(img){\n",
    "                return img.set('year', ee.Image(img).date().get('year'))\n",
    "              });\n",
    "\n",
    "// Definir la geometría para el Área Metropolitana de Buenos Aires (AMBA)\n",
    "var geometryAMBA = ee.Geometry.Polygon(\n",
    "  [\n",
    "    [-58.7, -34.8], // Esquina inferior izquierda\n",
    "    [-58.1, -34.8], // Esquina inferior derecha\n",
    "    [-58.1, -34.4], // Esquina superior derecha\n",
    "    [-58.7, -34.4], // Esquina superior izquierda\n",
    "  ]\n",
    ");\n",
    "\n",
    "// Filtrar datos para los años 1992 y 2013\n",
    "var filter1992 = dataset.filterMetadata('year', 'equals', 1992);\n",
    "var filter2013 = dataset.filterMetadata('year', 'equals', 2013);\n",
    "\n",
    "// Seleccionar la banda de luces estables\n",
    "var band = 'stable_lights';\n",
    "\n",
    "// Obtener las imágenes correspondientes a los años 1992 y 2013\n",
    "var image1992 = ee.Image(filter1992.first()).select(band);\n",
    "var image2013 = ee.Image(filter2013.first()).select(band);\n",
    "\n",
    "// Calcular la diferencia entre los años\n",
    "var difference = image2013.subtract(image1992);\n",
    "\n",
    "// Definir parámetros de visualización para la diferencia\n",
    "var diffStyle = {\n",
    "  bands: [band],\n",
    "  min: -20,\n",
    "  max: 20,\n",
    "  palette: ['blue', 'white', 'red']\n",
    "};\n",
    "\n",
    "// Agregar la capa de diferencia al mapa\n",
    "Map.addLayer(difference, diffStyle, 'Difference 2013-1992');\n",
    "\n",
    "// Agregar las capas originales para comparar\n",
    "Map.addLayer(image1992, {}, '1992');\n",
    "Map.addLayer(image2013, {}, '2013');\n",
    "\n",
    "// Importar límites políticos (partidos del conurbano, ciudad de Buenos Aires)\n",
    "var politicalBoundaries = ee.FeatureCollection('USDOS/LSIB_SIMPLE/2017');\n",
    "\n",
    "// Filtrar y agregar límites políticos al mapa\n",
    "Map.addLayer(politicalBoundaries, {color: '00FF00'}, 'Political Boundaries');\n",
    "\n",
    "// Centrar el mapa en el AMBA\n",
    "Map.centerObject(geometryAMBA, 10);"
   ]
  },
  {
   "cell_type": "code",
   "execution_count": null,
   "metadata": {},
   "outputs": [],
   "source": [
    "// Import and View the NOAA-DMSP OLS Nighttime Lights Time Series\n",
    "\n",
    "// 1. Import the DMSP OLS Nighttime data\n",
    "var dataset = ee.ImageCollection(\"NOAA/DMSP-OLS/NIGHTTIME_LIGHTS\")\n",
    "              .select('stable_lights')\n",
    "              .map(function(img){\n",
    "                return img.set('year', ee.Image(img).date().get('year'))\n",
    "              })\n",
    "              \n",
    "// 2. Select the year              \n",
    "var years = [1992, 2000, 2008, 2013]\n",
    "\n",
    "for(var a = 0; a < 4; a++){\n",
    "  var filter = dataset.filterMetadata('year', 'equals', years[a])\n",
    "\n",
    "// 3. Set visualization parameters  \n",
    "  var style = {\n",
    "    bands: ['stable_lights'],\n",
    "    max: 63,\n",
    "    palette: ['black', 'white', 'orange', 'yellow', 'red']\n",
    "  }\n",
    "  \n",
    "// 4. Add layers  \n",
    "  Map.addLayer(filter, style, 'NOAA - YEAR:' + ' ' + years[a])\n",
    "  \n",
    "}"
   ]
  },
  {
   "cell_type": "code",
   "execution_count": null,
   "metadata": {},
   "outputs": [],
   "source": [
    "var image = npp_viirs_ntl.sort('system:time_start').first()\n",
    "var vis = {\"opacity\":1,\"bands\":[\"b1\"],min: 1, max: 32,\"palette\":[\"584d9f\",\"9c79c1\",\"c98cbe\",\"f2d192\",\"e2ee82\"]}\n",
    "var formattedDate = ee.Date(image.get('system:time_start')).format('YYYY-MM-dd');\n",
    "Map.addLayer(image.mask(image.neq(0)),vis,'NTL VIIRS '+formattedDate.getInfo())\n",
    "\n",
    "var image = npp_viirs_ntl.sort('system:time_start',false).first()\n",
    "var formattedDate = ee.Date(image.get('system:time_start')).format('YYYY-MM-dd');\n",
    "Map.addLayer(image.mask(image.neq(0)),vis,'NTL VIIRS '+formattedDate.getInfo())"
   ]
  },
  {
   "cell_type": "markdown",
   "metadata": {},
   "source": [
    "https://gee-community-catalog.org/projects/terraclim/"
   ]
  }
 ],
 "metadata": {
  "kernelspec": {
   "display_name": "coder",
   "language": "python",
   "name": "python3"
  },
  "language_info": {
   "codemirror_mode": {
    "name": "ipython",
    "version": 3
   },
   "file_extension": ".py",
   "mimetype": "text/x-python",
   "name": "python",
   "nbconvert_exporter": "python",
   "pygments_lexer": "ipython3",
   "version": "3.10.8"
  },
  "orig_nbformat": 4,
  "polyglot_notebook": {
   "kernelInfo": {
    "defaultKernelName": "csharp",
    "items": [
     {
      "aliases": [],
      "name": "csharp"
     }
    ]
   }
  }
 },
 "nbformat": 4,
 "nbformat_minor": 2
}
